{
 "cells": [
  {
   "cell_type": "code",
   "execution_count": null,
   "metadata": {
    "collapsed": false,
    "deletable": true,
    "editable": true
   },
   "outputs": [
    {
     "name": "stderr",
     "output_type": "stream",
     "text": [
      "c:\\users\\seo\\appdata\\local\\programs\\python\\python35\\lib\\site-packages\\h5py\\__init__.py:34: FutureWarning: Conversion of the second argument of issubdtype from `float` to `np.floating` is deprecated. In future, it will be treated as `np.float64 == np.dtype(float).type`.\n",
      "  from ._conv import register_converters as _register_converters\n"
     ]
    },
    {
     "name": "stdout",
     "output_type": "stream",
     "text": [
      "curses is not supported on this machine (please install/reinstall curses for an optimal experience)\n"
     ]
    }
   ],
   "source": [
    "import tflearn"
   ]
  },
  {
   "cell_type": "code",
   "execution_count": null,
   "metadata": {
    "collapsed": false,
    "deletable": true,
    "editable": true
   },
   "outputs": [
    {
     "name": "stdout",
     "output_type": "stream",
     "text": [
      "Training Step: 2342  | total loss: \u001b[1m\u001b[32m0.05472\u001b[0m\u001b[0m | time: 90.764s\n",
      "\u001b[2K\r",
      "| Adam | epoch: 003 | loss: 0.05472 - acc: 0.9835 -- iter: 39808/55000\n"
     ]
    }
   ],
   "source": [
    "from tflearn.layers.core import input_data, dropout, fully_connected\n",
    "from tflearn.layers.conv import conv_2d, max_pool_2d\n",
    "from tflearn.layers.normalization import local_response_normalization\n",
    "from tflearn.layers.estimator import regression\n",
    "import tflearn.datasets.mnist as mnist\n",
    "\n",
    "X,Y,X_test,Y_test = mnist.load_data(one_hot=True)\n",
    "X = X.reshape([-1,28,28,1])\n",
    "X_test = X_test.reshape([-1,28,28,1])\n",
    "\n",
    "CNN = input_data(shape=[None,28,28,1],name='input')\n",
    "CNN = conv_2d(CNN,32,5,activation='relu',regularizer='L2')\n",
    "CNN = max_pool_2d(CNN,2)\n",
    "CNN = local_response_normalization(CNN)\n",
    "CNN = conv_2d(CNN,64,5,activation='relu',regularizer='L2')\n",
    "CNN = max_pool_2d(CNN,2)\n",
    "CNN = local_response_normalization(CNN)\n",
    "CNN = fully_connected(CNN,1024,activation=None)\n",
    "CNN = dropout(CNN,0.5)\n",
    "CNN = fully_connected(CNN,10,activation='softmax')\n",
    "CNN = regression(CNN,optimizer='adam',learning_rate=0.0001,loss='categorical_crossentropy',name='target')\n",
    "\n",
    "model = tflearn.DNN(CNN,tensorboard_verbose=0,\n",
    "                   checkpoint_path='/Check/')\n",
    "model.fit({'input':X},{'target':Y},n_epoch=3,validation_set=({'input':X_test},{'target':Y_test}),\n",
    "         snapshot_step = 1000,show_metric=True,run_id='convnet_mnist')"
   ]
  },
  {
   "cell_type": "code",
   "execution_count": null,
   "metadata": {
    "collapsed": true,
    "deletable": true,
    "editable": true
   },
   "outputs": [],
   "source": []
  }
 ],
 "metadata": {
  "kernelspec": {
   "display_name": "Python 3",
   "language": "python",
   "name": "python3"
  },
  "language_info": {
   "codemirror_mode": {
    "name": "ipython",
    "version": 3
   },
   "file_extension": ".py",
   "mimetype": "text/x-python",
   "name": "python",
   "nbconvert_exporter": "python",
   "pygments_lexer": "ipython3",
   "version": "3.5.2"
  }
 },
 "nbformat": 4,
 "nbformat_minor": 2
}
